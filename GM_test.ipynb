{
 "cells": [
  {
   "cell_type": "code",
   "execution_count": 1,
   "id": "christian-marsh",
   "metadata": {},
   "outputs": [],
   "source": [
    "import numpy as np\n",
    "from sklearn.mixture import GaussianMixture\n",
    "from sklearn.preprocessing import StandardScaler\n",
    "from sklearn.datasets import make_blobs\n",
    "from sklearn.utils import shuffle\n",
    "from sklearn.utils._testing import create_memmap_backed_data, set_random_state\n",
    "from sklearn.utils import check_array"
   ]
  },
  {
   "cell_type": "code",
   "execution_count": 2,
   "id": "extended-flavor",
   "metadata": {},
   "outputs": [
    {
     "name": "stdout",
     "output_type": "stream",
     "text": [
      "without memmap: 105.20017905516684\n",
      "using memmap: 105.20017905516679\n",
      "with lists: 105.20017905516684\n",
      "using a copy: 105.20017905516684\n"
     ]
    }
   ],
   "source": [
    "X, y = make_blobs(n_samples=50, random_state=1)\n",
    "X, y = shuffle(X, y, random_state=7)\n",
    "X = StandardScaler().fit_transform(X)\n",
    "rng = np.random.RandomState(7)\n",
    "X_noise = np.concatenate([X, rng.uniform(low=-3, high=3, size=(5, 2))])\n",
    "\n",
    "# parameters calculsted via the agglomerative initialization part of GaussianMixtureIC\n",
    "params = {'covariance_type': 'tied', 'init_params': 'kmeans', 'max_iter': 5,\n",
    "        'means_init': np.array([[-0.28980479, -1.11348895], [1.29539205, 1.27690036],\n",
    "        [-1.0226346, -0.22891076]]), 'n_components': 3, 'n_init': 1,\n",
    "        'precisions_init': np.array([[22.6024477, 6.76433097],\n",
    "        [ 6.76433097, 34.21063503]]), 'random_state': 0, 'reg_covar': 0,\n",
    "        'weights_init': np.array([0.32, 0.34, 0.34])}\n",
    "\n",
    "gm = GaussianMixture(**params)\n",
    "set_random_state(gm)\n",
    "\n",
    "# without memmap\n",
    "gm.fit(X)\n",
    "print('without memmap:', gm.bic(X))\n",
    "\n",
    "# using memmap\n",
    "X, y, X_noise = create_memmap_backed_data([X, y, X_noise])\n",
    "gm.fit(X)\n",
    "print('using memmap:', gm.bic(X))\n",
    "\n",
    "# with lists (as in \"sklearn/utils/estimator_checks.py::check_clustering\")\n",
    "gm.fit(X.tolist())\n",
    "print('with lists:', gm.bic(X))\n",
    "\n",
    "# try using a copy\n",
    "gm.fit(X.copy())\n",
    "print('using a copy:', gm.bic(X))"
   ]
  },
  {
   "cell_type": "code",
   "execution_count": null,
   "id": "sharp-values",
   "metadata": {},
   "outputs": [],
   "source": []
  }
 ],
 "metadata": {
  "kernelspec": {
   "display_name": "Python 3",
   "language": "python",
   "name": "python3"
  },
  "language_info": {
   "codemirror_mode": {
    "name": "ipython",
    "version": 3
   },
   "file_extension": ".py",
   "mimetype": "text/x-python",
   "name": "python",
   "nbconvert_exporter": "python",
   "pygments_lexer": "ipython3",
   "version": "3.8.5"
  }
 },
 "nbformat": 4,
 "nbformat_minor": 5
}
